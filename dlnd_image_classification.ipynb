{
 "cells": [
  {
   "cell_type": "markdown",
   "metadata": {
    "collapsed": true
   },
   "source": [
    "# Image Classification\n",
    "In this project, I am classifying images from the [CIFAR-10 dataset](https://www.cs.toronto.edu/~kriz/cifar.html).  \n",
    "The dataset consists of airplanes, dogs, cats, and other objects. \n",
    "\n",
    "\n",
    "Objective:\n",
    "- Preprocess the images\n",
    "- Train a convolutional neural network on all the samples, implementing max pooling, dropout, and fully connected layers\n",
    "- Normalize the images and one-hot encode labels  \n",
    "- Obtain predictions by the created neural network on the sample images\n",
    "\n",
    "## Get the Data\n",
    "The following code cell downloads the data \n",
    "[CIFAR-10 dataset for python](https://www.cs.toronto.edu/~kriz/cifar-10-python.tar.gz)."
   ]
  },
  {
   "cell_type": "code",
   "execution_count": 2,
   "metadata": {},
   "outputs": [
    {
     "name": "stdout",
     "output_type": "stream",
     "text": [
      "All files found!\n"
     ]
    }
   ],
   "source": [
    "from urllib.request import urlretrieve\n",
    "from os.path import isfile, isdir\n",
    "from tqdm import tqdm\n",
    "import problem_unittests as tests\n",
    "import tarfile\n",
    "\n",
    "cifar10_dataset_folder_path = 'cifar-10-batches-py'\n",
    "\n",
    "# Use Floyd's cifar-10 dataset if present\n",
    "floyd_cifar10_location = '/input/cifar-10/python.tar.gz'\n",
    "if isfile(floyd_cifar10_location):\n",
    "    tar_gz_path = floyd_cifar10_location\n",
    "else:\n",
    "    tar_gz_path = 'cifar-10-python.tar.gz'\n",
    "\n",
    "class DLProgress(tqdm):\n",
    "    last_block = 0\n",
    "\n",
    "    def hook(self, block_num=1, block_size=1, total_size=None):\n",
    "        self.total = total_size\n",
    "        self.update((block_num - self.last_block) * block_size)\n",
    "        self.last_block = block_num\n",
    "\n",
    "if not isfile(tar_gz_path):\n",
    "    with DLProgress(unit='B', unit_scale=True, miniters=1, desc='CIFAR-10 Dataset') as pbar:\n",
    "        urlretrieve(\n",
    "            'https://www.cs.toronto.edu/~kriz/cifar-10-python.tar.gz',\n",
    "            tar_gz_path,\n",
    "            pbar.hook)\n",
    "\n",
    "if not isdir(cifar10_dataset_folder_path):\n",
    "    with tarfile.open(tar_gz_path) as tar:\n",
    "        tar.extractall()\n",
    "        tar.close()\n",
    "\n",
    "\n",
    "tests.test_folder_path(cifar10_dataset_folder_path)"
   ]
  },
  {
   "cell_type": "markdown",
   "metadata": {},
   "source": [
    "## Explore the Data\n",
    "The dataset is broken into batches to prevent your machine from running out of memory.  The CIFAR-10 dataset consists of 5 batches, named `data_batch_1`, `data_batch_2`, etc.. Each batch contains the labels and images that are one of the following:\n",
    "* airplane\n",
    "* automobile\n",
    "* bird\n",
    "* cat\n",
    "* deer\n",
    "* dog\n",
    "* frog\n",
    "* horse\n",
    "* ship\n",
    "* truck\n",
    "\n",
    "The `batch_id` is the id for a batch (1-5). The `sample_id` is the id for a image and label pair in the batch."
   ]
  },
  {
   "cell_type": "code",
   "execution_count": 3,
   "metadata": {},
   "outputs": [
    {
     "name": "stdout",
     "output_type": "stream",
     "text": [
      "\n",
      "Stats of batch 1:\n",
      "Samples: 10000\n",
      "Label Counts: {0: 1005, 1: 974, 2: 1032, 3: 1016, 4: 999, 5: 937, 6: 1030, 7: 1001, 8: 1025, 9: 981}\n",
      "First 20 Labels: [6, 9, 9, 4, 1, 1, 2, 7, 8, 3, 4, 7, 7, 2, 9, 9, 9, 3, 2, 6]\n",
      "\n",
      "Example of Image 0:\n",
      "Image - Min Value: 0 Max Value: 255\n",
      "Image - Shape: (32, 32, 3)\n",
      "Label - Label Id: 6 Name: frog\n"
     ]
    },
    {
     "data": {
      "image/png": "[encoded data removed]",
      "text/plain": [
       "<matplotlib.figure.Figure at 0x11ff08358>"
      ]
     },
     "metadata": {
      "image/png": {
       "height": 250,
       "width": 253
      }
     },
     "output_type": "display_data"
    }
   ],
   "source": [
    "%matplotlib inline\n",
    "%config InlineBackend.figure_format = 'retina'\n",
    "\n",
    "import helper\n",
    "import numpy as np\n",
    "\n",
    "# Explore the dataset (Example)\n",
    "batch_id = 1\n",
    "sample_id = 0\n",
    "helper.display_stats(cifar10_dataset_folder_path, batch_id, sample_id)"
   ]
  },
  {
   "cell_type": "markdown",
   "metadata": {},
   "source": [
    "## Preprocessing the Data\n",
    "### Normalize\n",
    "Implementing the `normalize` function that takes in image data, `x`, and returns it as a normalized Numpy array such that the values should be in the range of 0 to 1, inclusive.  The returned object's shape is the same shape as `x`."
   ]
  },
  {
   "cell_type": "code",
   "execution_count": 4,
   "metadata": {},
   "outputs": [
    {
     "name": "stdout",
     "output_type": "stream",
     "text": [
      "Tests Passed\n"
     ]
    }
   ],
   "source": [
    "def normalize(x):\n",
    "    \"\"\"\n",
    "    Normalize a list of sample image data in the range of 0 to 1\n",
    "    : x: List of image data.  The image shape is (32, 32, 3)\n",
    "    : return: Numpy array of normalize data\n",
    "    \"\"\"\n",
    "    x = x/255\n",
    "    return x\n",
    "\n",
    "tests.test_normalize(normalize)"
   ]
  },
  {
   "cell_type": "markdown",
   "metadata": {},
   "source": [
    "### One-hot encode\n",
    "Implementing the `one_hot_encode` function that inputs `x`, which is a list of labels and return the list of labels as One-Hot encoded Numpy array with values between 0 and 9. The one-hot encoding function returns the same encoding for each value between each call to `one_hot_encode`."
   ]
  },
  {
   "cell_type": "code",
   "execution_count": 5,
   "metadata": {},
   "outputs": [
    {
     "name": "stdout",
     "output_type": "stream",
     "text": [
      "Tests Passed\n"
     ]
    }
   ],
   "source": [
    "def one_hot_encode(x):\n",
    "    \"\"\"\n",
    "    One hot encode a list of sample labels. Return a one-hot encoded vector for each label.\n",
    "    : x: List of sample Labels\n",
    "    : return: Numpy array of one-hot encoded labels\n",
    "    \"\"\"\n",
    "    return np.eye(10)[x]\n",
    "\n",
    "tests.test_one_hot_encode(one_hot_encode)"
   ]
  },
  {
   "cell_type": "markdown",
   "metadata": {},
   "source": [
    "## Preprocess all the data and save it\n",
    "Running the code cell below will preprocess all the CIFAR-10 data and save it to file. The code below also uses 10% of the training data for validation."
   ]
  },
  {
   "cell_type": "code",
   "execution_count": 6,
   "metadata": {
    "collapsed": true
   },
   "outputs": [],
   "source": [
    "# Preprocess Training, Validation, and Testing Data\n",
    "helper.preprocess_and_save_data(cifar10_dataset_folder_path, normalize, one_hot_encode)"
   ]
  },
  {
   "cell_type": "code",
   "execution_count": 7,
   "metadata": {
    "collapsed": true
   },
   "outputs": [],
   "source": [
    "import pickle\n",
    "import problem_unittests as tests\n",
    "import helper\n",
    "\n",
    "# Load the Preprocessed Validation data\n",
    "valid_features, valid_labels = pickle.load(open('preprocess_validation.p', mode='rb'))"
   ]
  },
  {
   "cell_type": "markdown",
   "metadata": {},
   "source": [
    "## Build the network\n",
    "\n",
    "### Input\n",
    "The neural network reads the image data, one-hot encoded labels, and dropout keep probability\n",
    "\n",
    "Functions imeplemented are as below:\n",
    "* `neural_net_image_input`\n",
    " * Returns a TF Placeholder\n",
    " * Sets the shape using `image_shape` with batch size set to `None`\n",
    " * Naming the TensorFlow placeholder \"x\" using the TensorFlow `name` parameter in the TF Placeholder\n",
    "\n",
    "* `neural_net_label_input`\n",
    " * Returns a TF Placeholder\n",
    " * Sets the shape using `n_classes` with batch size set to `None`\n",
    " * Naming the TensorFlow placeholder \"y\" using the TensorFlow `name` parameter in the TF Placeholder\n",
    " \n",
    "* `neural_net_keep_prob_input`\n",
    " * Returns a TF Placeholder for dropout keep probability.\n",
    " * Naming the TensorFlow placeholder \"keep_prob\" using the TensorFlow `name` parameter in the TF Placeholder\n",
    "\n",
    "Note: These names will be used at the end of the project to load the saved model\n",
    "\n",
    "`None` for shapes in TensorFlow allows for a dynamic size"
   ]
  },
  {
   "cell_type": "code",
   "execution_count": 8,
   "metadata": {},
   "outputs": [
    {
     "name": "stdout",
     "output_type": "stream",
     "text": [
      "Image Input Tests Passed.\n",
      "Label Input Tests Passed.\n",
      "Keep Prob Tests Passed.\n"
     ]
    }
   ],
   "source": [
    "import tensorflow as tf\n",
    "\n",
    "def neural_net_image_input(image_shape):\n",
    "    \"\"\"\n",
    "    Return a Tensor for a batch of image input\n",
    "    : image_shape: Shape of the images\n",
    "    : return: Tensor for image input.\n",
    "    \"\"\"\n",
    "    return tf.placeholder(tf.float32, [None, *image_shape], \"x\")\n",
    "\n",
    "\n",
    "def neural_net_label_input(n_classes):\n",
    "    \"\"\"\n",
    "    Return a Tensor for a batch of label input\n",
    "    : n_classes: Number of classes\n",
    "    : return: Tensor for label input.\n",
    "    \"\"\"\n",
    "    return tf.placeholder(tf.float32, [None, n_classes], name=\"y\")\n",
    "\n",
    "\n",
    "def neural_net_keep_prob_input():\n",
    "    \"\"\"\n",
    "    Return a Tensor for keep probability\n",
    "    : return: Tensor for keep probability.\n",
    "    \"\"\"\n",
    "    return tf.placeholder(tf.float32, name=\"keep_prob\")\n",
    "\n",
    "tf.reset_default_graph()\n",
    "tests.test_nn_image_inputs(neural_net_image_input)\n",
    "tests.test_nn_label_inputs(neural_net_label_input)\n",
    "tests.test_nn_keep_prob_inputs(neural_net_keep_prob_input)"
   ]
  },
  {
   "cell_type": "markdown",
   "metadata": {},
   "source": [
    "### Convolution and Max Pooling Layer\n",
    "Convolution layers have a lot of success with images. \n",
    "Implementing the function `conv2d_maxpool` to apply convolution then max pooling as below:\n",
    "* Creating the weight and bias using `conv_ksize`, `conv_num_outputs` and the shape of `x_tensor`.\n",
    "* Applying a convolution to `x_tensor` using weight and `conv_strides`.\n",
    " * I am choosing to use same padding\n",
    "* Adding bias\n",
    "* Adding a nonlinear activation to the convolution\n",
    "* Applying Max Pooling using `pool_ksize` and `pool_strides`\n",
    " * Implementing with same padding\n"
   ]
  },
  {
   "cell_type": "code",
   "execution_count": 9,
   "metadata": {},
   "outputs": [
    {
     "name": "stdout",
     "output_type": "stream",
     "text": [
      "Tests Passed\n"
     ]
    }
   ],
   "source": [
    "def conv2d_maxpool(x_tensor, conv_num_outputs, conv_ksize, conv_strides, pool_ksize, pool_strides):\n",
    "    \"\"\"\n",
    "    Apply convolution then max pooling to x_tensor\n",
    "    :param x_tensor: TensorFlow Tensor\n",
    "    :param conv_num_outputs: Number of outputs for the convolutional layer\n",
    "    :param conv_ksize: kernal size 2-D Tuple for the convolutional layer\n",
    "    :param conv_strides: Stride 2-D Tuple for convolution\n",
    "    :param pool_ksize: kernal size 2-D Tuple for pool\n",
    "    :param pool_strides: Stride 2-D Tuple for pool\n",
    "    : return: A tensor that represents convolution and max pooling of x_tensor\n",
    "    \"\"\"\n",
    "    weight = tf.Variable(tf.truncated_normal([conv_ksize[0], conv_ksize[1], int(x_tensor.shape[3]),\n",
    "                                              conv_num_outputs], stddev=0.05))\n",
    "    \n",
    "    bias = tf.zeros(shape=[conv_num_outputs])\n",
    "    bias.set_shape([conv_num_outputs]) \n",
    "    \n",
    "    conv_layer = tf.nn.conv2d(x_tensor, weight, strides = [1, *conv_strides, 1], padding = \"SAME\")\n",
    "    conv_layer_with_bias = tf.nn.bias_add(conv_layer, bias)\n",
    "    conv_layer_with_activation = tf.nn.relu(conv_layer_with_bias)\n",
    "    conv_layer_after_pooling = tf.nn.max_pool(conv_layer_with_activation, ksize= [1, *pool_ksize, 1], strides = [1, *pool_strides, 1], padding = \"SAME\")\n",
    "    return conv_layer_after_pooling\n",
    "\n",
    "\n",
    "tests.test_con_pool(conv2d_maxpool)"
   ]
  },
  {
   "cell_type": "markdown",
   "metadata": {},
   "source": [
    "### Flatten Layer\n",
    "Implementing the `flatten` function to change the dimension of `x_tensor` from a 4-D tensor to a 2-D tensor.  The output shape would be: (*Batch Size*, *Flattened Image Size*)."
   ]
  },
  {
   "cell_type": "code",
   "execution_count": 10,
   "metadata": {},
   "outputs": [
    {
     "name": "stdout",
     "output_type": "stream",
     "text": [
      "Tests Passed\n"
     ]
    }
   ],
   "source": [
    "def flatten(x_tensor):\n",
    "    \"\"\"\n",
    "    Flatten x_tensor to (Batch Size, Flattened Image Size)\n",
    "    : x_tensor: A tensor of size (Batch Size, ...), where ... are the image dimensions.\n",
    "    : return: A tensor of size (Batch Size, Flattened Image Size).\n",
    "    \"\"\"\n",
    "    return tf.reshape(x_tensor, [-1, int(x_tensor.shape[1] * x_tensor.shape[2] * x_tensor.shape[3])])\n",
    "\n",
    "tests.test_flatten(flatten)"
   ]
  },
  {
   "cell_type": "markdown",
   "metadata": {},
   "source": [
    "### Fully-Connected Layer\n",
    "Implementing the `fully_conn` function to apply a fully connected layer to `x_tensor` with the shape (*Batch Size*, *num_outputs*)"
   ]
  },
  {
   "cell_type": "code",
   "execution_count": 11,
   "metadata": {},
   "outputs": [
    {
     "name": "stdout",
     "output_type": "stream",
     "text": [
      "Tests Passed\n"
     ]
    }
   ],
   "source": [
    "def fully_conn(x_tensor, num_outputs):\n",
    "    \"\"\"\n",
    "    Apply a fully connected layer to x_tensor using weight and bias\n",
    "    : x_tensor: A 2-D tensor where the first dimension is batch size.\n",
    "    : num_outputs: The number of output that the new tensor should be.\n",
    "    : return: A 2-D tensor where the second dimension is num_outputs.\n",
    "    \"\"\"\n",
    "    # Shortcut: return tf.contrib.layers.fully_connected(x_tensor, num_outputs, activation_fn=tf.nn.relu)\n",
    "    weights = tf.Variable(tf.truncated_normal([int(x_tensor.shape[1]), num_outputs], stddev=0.05))\n",
    "    \n",
    "    bias = tf.zeros(shape=[num_outputs])\n",
    "\n",
    "    fully_connected_layer = tf.add(tf.matmul(x_tensor, weights), bias)\n",
    "    \n",
    "    fully_connected_layer = tf.nn.relu(fully_connected_layer)\n",
    "    \n",
    "    return fully_connected_layer\n",
    "\n",
    "tests.test_fully_conn(fully_conn)"
   ]
  },
  {
   "cell_type": "markdown",
   "metadata": {},
   "source": [
    "### Output Layer\n",
    "Implement the `output` function to apply a fully connected layer to `x_tensor` with the shape (*Batch Size*, *num_outputs*).\n",
    "\n",
    "**Note:** Activation, softmax, or cross entropy should **not** be applied to this."
   ]
  },
  {
   "cell_type": "code",
   "execution_count": 12,
   "metadata": {},
   "outputs": [
    {
     "name": "stdout",
     "output_type": "stream",
     "text": [
      "Tests Passed\n"
     ]
    }
   ],
   "source": [
    "def output(x_tensor, num_outputs):\n",
    "    \"\"\"\n",
    "    Apply an output layer to x_tensor using weight and bias\n",
    "    : x_tensor: A 2-D tensor where the first dimension is batch size.\n",
    "    : num_outputs: The number of output that the new tensor should be.\n",
    "    : return: A 2-D tensor where the second dimension is num_outputs.\n",
    "    \"\"\"\n",
    "    weights = tf.Variable(tf.truncated_normal([int(x_tensor.shape[1]), num_outputs], stddev=0.05))\n",
    "    \n",
    "    bias = tf.zeros(shape=[num_outputs])\n",
    "\n",
    "    output_layer = tf.add(tf.matmul(x_tensor, weights), bias)\n",
    "    \n",
    "    # output_layer = tf.nn.sigmoid(output_layer)\n",
    "    # Adding sigmoid activation function as te Udacity Reviews calls out for Linear activation function for the output\n",
    "    \n",
    "    return output_layer\n",
    "\n",
    "tests.test_output(output)"
   ]
  },
  {
   "cell_type": "markdown",
   "metadata": {},
   "source": [
    "### Create Convolutional Model\n",
    "Implement the function `conv_net` to create a convolutional neural network model. The function takes in a batch of images, `x`, and outputs logits.  Use the layers you created above to create this model:\n",
    "\n",
    "* Apply 1, 2, or 3 Convolution and Max Pool layers\n",
    "* Apply a Flatten Layer\n",
    "* Apply 1, 2, or 3 Fully Connected Layers\n",
    "* Apply an Output Layer\n",
    "* Return the output\n",
    "* Apply [TensorFlow's Dropout](https://www.tensorflow.org/api_docs/python/tf/nn/dropout) to one or more layers in the model using `keep_prob`. "
   ]
  },
  {
   "cell_type": "code",
   "execution_count": 16,
   "metadata": {},
   "outputs": [
    {
     "name": "stdout",
     "output_type": "stream",
     "text": [
      "Neural Network Built!\n"
     ]
    }
   ],
   "source": [
    "def conv_net(x, keep_prob):\n",
    "    \"\"\"\n",
    "    Create a convolutional neural network model\n",
    "    : x: Placeholder tensor that holds image data.\n",
    "    : keep_prob: Placeholder tensor that hold dropout keep probability.\n",
    "    : return: Tensor that represents logits\n",
    "    \"\"\"\n",
    "    # Apply Convolution and Max Pool layers\n",
    "    conv1 = conv2d_maxpool(x_tensor=x, \n",
    "                           conv_num_outputs=32, \n",
    "                           conv_ksize=(4, 4), \n",
    "                           conv_strides=(1, 1), \n",
    "                           pool_ksize=(2, 2), \n",
    "                           pool_strides=(1, 1))\n",
    "    conv2 = conv2d_maxpool(x_tensor=conv1,\n",
    "                           conv_num_outputs=64,\n",
    "                           conv_ksize=(2, 2),\n",
    "                           conv_strides=(1, 1),\n",
    "                           pool_ksize=(2, 2),\n",
    "                           pool_strides=(1, 1))\n",
    "    \n",
    "\n",
    "    # Apply a Flatten Layer\n",
    "    flattened_layer = flatten(conv2)\n",
    "    \n",
    "\n",
    "    # Apply Fully Connected Layers\n",
    "    fully_con_layer1 = fully_conn(flattened_layer, num_outputs = 64)\n",
    "    fully_con_layer1_with_dropout = tf.nn.dropout(fully_con_layer1, keep_prob)\n",
    "    \n",
    "    fully_con_layer2 = fully_conn(fully_con_layer1_with_dropout, num_outputs = 32)\n",
    "    fully_con_layer2_with_dropout = tf.nn.dropout(fully_con_layer2, keep_prob)\n",
    "    \n",
    "    \n",
    "    # Apply an Output Layer\n",
    "    output_layer = output(fully_con_layer2_with_dropout, num_outputs = 10)\n",
    "    \n",
    "    return output_layer\n",
    "\n",
    "\n",
    "##############################\n",
    "## Build the Neural Network ##\n",
    "##############################\n",
    "\n",
    "# Remove previous weights, bias, inputs, etc..\n",
    "tf.reset_default_graph()\n",
    "\n",
    "# Inputs\n",
    "x = neural_net_image_input((32, 32, 3))\n",
    "y = neural_net_label_input(10)\n",
    "keep_prob = neural_net_keep_prob_input()\n",
    "\n",
    "# Model\n",
    "logits = conv_net(x, keep_prob)\n",
    "\n",
    "# Name logits Tensor, so that is can be loaded from disk after training\n",
    "logits = tf.identity(logits, name='logits')\n",
    "\n",
    "# Loss and Optimizer\n",
    "cost = tf.reduce_mean(tf.nn.softmax_cross_entropy_with_logits(logits=logits, labels=y))\n",
    "optimizer = tf.train.AdamOptimizer().minimize(cost)\n",
    "\n",
    "# Accuracy\n",
    "correct_pred = tf.equal(tf.argmax(logits, 1), tf.argmax(y, 1))\n",
    "accuracy = tf.reduce_mean(tf.cast(correct_pred, tf.float32), name='accuracy')\n",
    "\n",
    "tests.test_conv_net(conv_net)"
   ]
  },
  {
   "cell_type": "markdown",
   "metadata": {},
   "source": [
    "## Train the Neural Network\n",
    "### Single Optimization\n",
    "Implementing the function `train_neural_network` to do a single optimization.  The optimization uses `optimizer` to optimize in `session` with a `feed_dict` of the following:\n",
    "* `x` for image input\n",
    "* `y` for labels\n",
    "* `keep_prob` for keep probability for dropout\n",
    "\n",
    "This function will be called for each batch, so `tf.global_variables_initializer()` has already been called.\n",
    "\n",
    "Note: This function is only optimizing the neural network and does not return any value"
   ]
  },
  {
   "cell_type": "code",
   "execution_count": 17,
   "metadata": {},
   "outputs": [
    {
     "name": "stdout",
     "output_type": "stream",
     "text": [
      "Tests Passed\n"
     ]
    }
   ],
   "source": [
    "def train_neural_network(session, optimizer, keep_probability, feature_batch, label_batch):\n",
    "    \"\"\"\n",
    "    Optimize the session on a batch of images and labels\n",
    "    : session: Current TensorFlow session\n",
    "    : optimizer: TensorFlow optimizer function\n",
    "    : keep_probability: keep probability\n",
    "    : feature_batch: Batch of Numpy image data\n",
    "    : label_batch: Batch of Numpy label data\n",
    "    \"\"\"\n",
    "    session.run(optimizer, {x: feature_batch, y: label_batch, keep_prob: keep_probability})\n",
    "\n",
    "tests.test_train_nn(train_neural_network)"
   ]
  },
  {
   "cell_type": "markdown",
   "metadata": {},
   "source": [
    "### Show Stats\n",
    "Implementing the function `print_stats` to print loss and validation accuracy.  The validation accuracy is calculated using the global variables `valid_features` and `valid_labels`. Also, using a keep probability of `1.0` here to calculate the loss and validation accuracy."
   ]
  },
  {
   "cell_type": "code",
   "execution_count": 18,
   "metadata": {
    "collapsed": true
   },
   "outputs": [],
   "source": [
    "def print_stats(session, feature_batch, label_batch, cost, accuracy):\n",
    "    \"\"\"\n",
    "    Print information about loss and validation accuracy\n",
    "    : session: Current TensorFlow session\n",
    "    : feature_batch: Batch of Numpy image data\n",
    "    : label_batch: Batch of Numpy label data\n",
    "    : cost: TensorFlow cost function\n",
    "    : accuracy: TensorFlow accuracy function\n",
    "    \"\"\"\n",
    "    loss = session.run(cost, feed_dict={x: feature_batch, y: label_batch, keep_prob: 1.0})\n",
    "    \n",
    "    valid_acc = session.run(accuracy, feed_dict={x: valid_features, y: valid_labels, keep_prob: 1.0})\n",
    "    \n",
    "    print('Loss: {:>15.4f} Validation Accuracy: {:.4f}'.format(loss, valid_acc))"
   ]
  },
  {
   "cell_type": "markdown",
   "metadata": {},
   "source": [
    "### Hyperparameters\n",
    "Tuning the following hyper parameters:\n",
    "* `epochs` \n",
    "* `batch_size` \n",
    "* `keep_probability` "
   ]
  },
  {
   "cell_type": "code",
   "execution_count": 21,
   "metadata": {
    "collapsed": true
   },
   "outputs": [],
   "source": [
    "# Tuning Parameters\n",
    "epochs = 20\n",
    "batch_size = 128\n",
    "keep_probability = 0.8"
   ]
  },
  {
   "cell_type": "markdown",
   "metadata": {},
   "source": [
    "### Train on a Single CIFAR-10 Batch\n",
    "Instead of training the neural network on all the CIFAR-10 batches of data, let's start with a single batch. This saves time while we iterate on the model to get a better accuracy.  Once the final validation accuracy is 50% or greater, we can run the model on all the data."
   ]
  },
  {
   "cell_type": "code",
   "execution_count": 22,
   "metadata": {
    "scrolled": false
   },
   "outputs": [
    {
     "name": "stdout",
     "output_type": "stream",
     "text": [
      "Checking the Training on a Single Batch...\n",
      "Epoch  1, CIFAR-10 Batch 1:  Loss:          2.1351 Validation Accuracy: 0.2968\n",
      "Epoch  2, CIFAR-10 Batch 1:  Loss:          1.9861 Validation Accuracy: 0.3926\n",
      "Epoch  3, CIFAR-10 Batch 1:  Loss:          1.8430 Validation Accuracy: 0.4370\n",
      "Epoch  4, CIFAR-10 Batch 1:  Loss:          1.7040 Validation Accuracy: 0.4534\n",
      "Epoch  5, CIFAR-10 Batch 1:  Loss:          1.4305 Validation Accuracy: 0.4732\n",
      "Epoch  6, CIFAR-10 Batch 1:  Loss:          1.3035 Validation Accuracy: 0.4672\n",
      "Epoch  7, CIFAR-10 Batch 1:  Loss:          1.1419 Validation Accuracy: 0.5028\n",
      "Epoch  8, CIFAR-10 Batch 1:  Loss:          1.0575 Validation Accuracy: 0.4912\n",
      "Epoch  9, CIFAR-10 Batch 1:  Loss:          0.9983 Validation Accuracy: 0.5128\n",
      "Epoch 10, CIFAR-10 Batch 1:  Loss:          0.8793 Validation Accuracy: 0.5368\n",
      "Epoch 11, CIFAR-10 Batch 1:  Loss:          0.8238 Validation Accuracy: 0.5322\n",
      "Epoch 12, CIFAR-10 Batch 1:  Loss:          0.7945 Validation Accuracy: 0.5180\n",
      "Epoch 13, CIFAR-10 Batch 1:  Loss:          0.6805 Validation Accuracy: 0.5338\n",
      "Epoch 14, CIFAR-10 Batch 1:  Loss:          0.6212 Validation Accuracy: 0.5472\n",
      "Epoch 15, CIFAR-10 Batch 1:  Loss:          0.5614 Validation Accuracy: 0.5418\n",
      "Epoch 16, CIFAR-10 Batch 1:  Loss:          0.5986 Validation Accuracy: 0.5396\n",
      "Epoch 17, CIFAR-10 Batch 1:  Loss:          0.4792 Validation Accuracy: 0.5652\n",
      "Epoch 18, CIFAR-10 Batch 1:  Loss:          0.4970 Validation Accuracy: 0.5560\n",
      "Epoch 19, CIFAR-10 Batch 1:  Loss:          0.4339 Validation Accuracy: 0.5404\n",
      "Epoch 20, CIFAR-10 Batch 1:  Loss:          0.3681 Validation Accuracy: 0.5548\n"
     ]
    }
   ],
   "source": [
    "print('Checking the Training on a Single Batch...')\n",
    "with tf.Session() as sess:\n",
    "    # Initializing the variables\n",
    "    sess.run(tf.global_variables_initializer())\n",
    "    \n",
    "    # Training cycle\n",
    "    for epoch in range(epochs):\n",
    "        batch_i = 1\n",
    "        for batch_features, batch_labels in helper.load_preprocess_training_batch(batch_i, batch_size):\n",
    "            train_neural_network(sess, optimizer, keep_probability, batch_features, batch_labels)\n",
    "        print('Epoch {:>2}, CIFAR-10 Batch {}:  '.format(epoch + 1, batch_i), end='')\n",
    "        print_stats(sess, batch_features, batch_labels, cost, accuracy)"
   ]
  },
  {
   "cell_type": "markdown",
   "metadata": {},
   "source": [
    "### Fully Train the Model\n",
    "Now that you got a good accuracy with a single CIFAR-10 batch, try it with all five batches."
   ]
  },
  {
   "cell_type": "code",
   "execution_count": 24,
   "metadata": {},
   "outputs": [
    {
     "name": "stdout",
     "output_type": "stream",
     "text": [
      "Training...\n",
      "Epoch  1, CIFAR-10 Batch 1:  Loss:          2.0496 Validation Accuracy: 0.3332\n",
      "Epoch  1, CIFAR-10 Batch 2:  Loss:          1.6625 Validation Accuracy: 0.4114\n",
      "Epoch  1, CIFAR-10 Batch 3:  Loss:          1.3769 Validation Accuracy: 0.4436\n",
      "Epoch  1, CIFAR-10 Batch 4:  Loss:          1.4886 Validation Accuracy: 0.4650\n",
      "Epoch  1, CIFAR-10 Batch 5:  Loss:          1.3706 Validation Accuracy: 0.4782\n",
      "Epoch  2, CIFAR-10 Batch 1:  Loss:          1.7921 Validation Accuracy: 0.4828\n",
      "Epoch  2, CIFAR-10 Batch 2:  Loss:          1.2680 Validation Accuracy: 0.5094\n",
      "Epoch  2, CIFAR-10 Batch 3:  Loss:          1.0134 Validation Accuracy: 0.5040\n",
      "Epoch  2, CIFAR-10 Batch 4:  Loss:          1.2740 Validation Accuracy: 0.5230\n",
      "Epoch  2, CIFAR-10 Batch 5:  Loss:          1.1936 Validation Accuracy: 0.5130\n",
      "Epoch  3, CIFAR-10 Batch 1:  Loss:          1.4134 Validation Accuracy: 0.5390\n",
      "Epoch  3, CIFAR-10 Batch 2:  Loss:          1.1769 Validation Accuracy: 0.5144\n",
      "Epoch  3, CIFAR-10 Batch 3:  Loss:          0.9283 Validation Accuracy: 0.5574\n",
      "Epoch  3, CIFAR-10 Batch 4:  Loss:          1.1077 Validation Accuracy: 0.5588\n",
      "Epoch  3, CIFAR-10 Batch 5:  Loss:          1.0120 Validation Accuracy: 0.5752\n",
      "Epoch  4, CIFAR-10 Batch 1:  Loss:          1.2113 Validation Accuracy: 0.5520\n",
      "Epoch  4, CIFAR-10 Batch 2:  Loss:          0.9809 Validation Accuracy: 0.5812\n",
      "Epoch  4, CIFAR-10 Batch 3:  Loss:          0.8713 Validation Accuracy: 0.5724\n",
      "Epoch  4, CIFAR-10 Batch 4:  Loss:          0.9500 Validation Accuracy: 0.5798\n",
      "Epoch  4, CIFAR-10 Batch 5:  Loss:          0.8938 Validation Accuracy: 0.5858\n",
      "Epoch  5, CIFAR-10 Batch 1:  Loss:          0.9656 Validation Accuracy: 0.5860\n",
      "Epoch  5, CIFAR-10 Batch 2:  Loss:          0.8388 Validation Accuracy: 0.6048\n",
      "Epoch  5, CIFAR-10 Batch 3:  Loss:          0.7981 Validation Accuracy: 0.5998\n",
      "Epoch  5, CIFAR-10 Batch 4:  Loss:          0.8857 Validation Accuracy: 0.6120\n",
      "Epoch  5, CIFAR-10 Batch 5:  Loss:          0.7663 Validation Accuracy: 0.6120\n",
      "Epoch  6, CIFAR-10 Batch 1:  Loss:          0.8106 Validation Accuracy: 0.6314\n",
      "Epoch  6, CIFAR-10 Batch 2:  Loss:          0.6963 Validation Accuracy: 0.6150\n",
      "Epoch  6, CIFAR-10 Batch 3:  Loss:          0.7431 Validation Accuracy: 0.6020\n",
      "Epoch  6, CIFAR-10 Batch 4:  Loss:          0.7149 Validation Accuracy: 0.6342\n",
      "Epoch  6, CIFAR-10 Batch 5:  Loss:          0.6619 Validation Accuracy: 0.6140\n",
      "Epoch  7, CIFAR-10 Batch 1:  Loss:          0.7178 Validation Accuracy: 0.6278\n",
      "Epoch  7, CIFAR-10 Batch 2:  Loss:          0.5535 Validation Accuracy: 0.6270\n",
      "Epoch  7, CIFAR-10 Batch 3:  Loss:          0.6137 Validation Accuracy: 0.6220\n",
      "Epoch  7, CIFAR-10 Batch 4:  Loss:          0.6900 Validation Accuracy: 0.6354\n",
      "Epoch  7, CIFAR-10 Batch 5:  Loss:          0.5506 Validation Accuracy: 0.6388\n",
      "Epoch  8, CIFAR-10 Batch 1:  Loss:          0.6885 Validation Accuracy: 0.6336\n",
      "Epoch  8, CIFAR-10 Batch 2:  Loss:          0.4903 Validation Accuracy: 0.6422\n",
      "Epoch  8, CIFAR-10 Batch 3:  Loss:          0.6210 Validation Accuracy: 0.6284\n",
      "Epoch  8, CIFAR-10 Batch 4:  Loss:          0.5951 Validation Accuracy: 0.6414\n",
      "Epoch  8, CIFAR-10 Batch 5:  Loss:          0.4995 Validation Accuracy: 0.6504\n",
      "Epoch  9, CIFAR-10 Batch 1:  Loss:          0.5499 Validation Accuracy: 0.6484\n",
      "Epoch  9, CIFAR-10 Batch 2:  Loss:          0.3995 Validation Accuracy: 0.6444\n",
      "Epoch  9, CIFAR-10 Batch 3:  Loss:          0.4765 Validation Accuracy: 0.6466\n",
      "Epoch  9, CIFAR-10 Batch 4:  Loss:          0.5232 Validation Accuracy: 0.6558\n",
      "Epoch  9, CIFAR-10 Batch 5:  Loss:          0.4636 Validation Accuracy: 0.6510\n",
      "Epoch 10, CIFAR-10 Batch 1:  Loss:          0.4959 Validation Accuracy: 0.6520\n",
      "Epoch 10, CIFAR-10 Batch 2:  Loss:          0.3791 Validation Accuracy: 0.6520\n",
      "Epoch 10, CIFAR-10 Batch 3:  Loss:          0.4431 Validation Accuracy: 0.6416\n",
      "Epoch 10, CIFAR-10 Batch 4:  Loss:          0.4382 Validation Accuracy: 0.6542\n",
      "Epoch 10, CIFAR-10 Batch 5:  Loss:          0.4100 Validation Accuracy: 0.6632\n",
      "Epoch 11, CIFAR-10 Batch 1:  Loss:          0.4405 Validation Accuracy: 0.6508\n",
      "Epoch 11, CIFAR-10 Batch 2:  Loss:          0.3514 Validation Accuracy: 0.6460\n",
      "Epoch 11, CIFAR-10 Batch 3:  Loss:          0.3747 Validation Accuracy: 0.6474\n",
      "Epoch 11, CIFAR-10 Batch 4:  Loss:          0.3408 Validation Accuracy: 0.6412\n",
      "Epoch 11, CIFAR-10 Batch 5:  Loss:          0.3252 Validation Accuracy: 0.6562\n",
      "Epoch 12, CIFAR-10 Batch 1:  Loss:          0.4037 Validation Accuracy: 0.6552\n",
      "Epoch 12, CIFAR-10 Batch 2:  Loss:          0.2673 Validation Accuracy: 0.6644\n",
      "Epoch 12, CIFAR-10 Batch 3:  Loss:          0.3070 Validation Accuracy: 0.6500\n",
      "Epoch 12, CIFAR-10 Batch 4:  Loss:          0.3448 Validation Accuracy: 0.6550\n",
      "Epoch 12, CIFAR-10 Batch 5:  Loss:          0.3165 Validation Accuracy: 0.6578\n",
      "Epoch 13, CIFAR-10 Batch 1:  Loss:          0.3048 Validation Accuracy: 0.6612\n",
      "Epoch 13, CIFAR-10 Batch 2:  Loss:          0.2636 Validation Accuracy: 0.6664\n",
      "Epoch 13, CIFAR-10 Batch 3:  Loss:          0.3097 Validation Accuracy: 0.6540\n",
      "Epoch 13, CIFAR-10 Batch 4:  Loss:          0.3153 Validation Accuracy: 0.6572\n",
      "Epoch 13, CIFAR-10 Batch 5:  Loss:          0.2518 Validation Accuracy: 0.6534\n",
      "Epoch 14, CIFAR-10 Batch 1:  Loss:          0.2553 Validation Accuracy: 0.6466\n",
      "Epoch 14, CIFAR-10 Batch 2:  Loss:          0.1972 Validation Accuracy: 0.6648\n",
      "Epoch 14, CIFAR-10 Batch 3:  Loss:          0.2742 Validation Accuracy: 0.6612\n",
      "Epoch 14, CIFAR-10 Batch 4:  Loss:          0.2695 Validation Accuracy: 0.6610\n",
      "Epoch 14, CIFAR-10 Batch 5:  Loss:          0.2817 Validation Accuracy: 0.6416\n",
      "Epoch 15, CIFAR-10 Batch 1:  Loss:          0.2665 Validation Accuracy: 0.6700\n",
      "Epoch 15, CIFAR-10 Batch 2:  Loss:          0.1305 Validation Accuracy: 0.6596\n",
      "Epoch 15, CIFAR-10 Batch 3:  Loss:          0.2341 Validation Accuracy: 0.6600\n",
      "Epoch 15, CIFAR-10 Batch 4:  Loss:          0.1923 Validation Accuracy: 0.6664\n",
      "Epoch 15, CIFAR-10 Batch 5:  Loss:          0.2306 Validation Accuracy: 0.6568\n",
      "Epoch 16, CIFAR-10 Batch 1:  Loss:          0.2107 Validation Accuracy: 0.6654\n",
      "Epoch 16, CIFAR-10 Batch 2:  Loss:          0.1351 Validation Accuracy: 0.6554\n",
      "Epoch 16, CIFAR-10 Batch 3:  Loss:          0.2265 Validation Accuracy: 0.6492\n",
      "Epoch 16, CIFAR-10 Batch 4:  Loss:          0.1752 Validation Accuracy: 0.6536\n",
      "Epoch 16, CIFAR-10 Batch 5:  Loss:          0.1843 Validation Accuracy: 0.6536\n",
      "Epoch 17, CIFAR-10 Batch 1:  Loss:          0.2112 Validation Accuracy: 0.6614\n",
      "Epoch 17, CIFAR-10 Batch 2:  Loss:          0.1166 Validation Accuracy: 0.6450\n",
      "Epoch 17, CIFAR-10 Batch 3:  Loss:          0.2050 Validation Accuracy: 0.6520\n",
      "Epoch 17, CIFAR-10 Batch 4:  Loss:          0.1870 Validation Accuracy: 0.6576\n",
      "Epoch 17, CIFAR-10 Batch 5:  Loss:          0.1169 Validation Accuracy: 0.6634\n",
      "Epoch 18, CIFAR-10 Batch 1:  Loss:          0.1831 Validation Accuracy: 0.6604\n",
      "Epoch 18, CIFAR-10 Batch 2:  Loss:          0.1062 Validation Accuracy: 0.6522\n",
      "Epoch 18, CIFAR-10 Batch 3:  Loss:          0.1870 Validation Accuracy: 0.6346\n",
      "Epoch 18, CIFAR-10 Batch 4:  Loss:          0.1223 Validation Accuracy: 0.6560\n",
      "Epoch 18, CIFAR-10 Batch 5:  Loss:          0.1510 Validation Accuracy: 0.6544\n",
      "Epoch 19, CIFAR-10 Batch 1:  Loss:          0.1924 Validation Accuracy: 0.6506\n",
      "Epoch 19, CIFAR-10 Batch 2:  Loss:          0.0819 Validation Accuracy: 0.6498\n",
      "Epoch 19, CIFAR-10 Batch 3:  Loss:          0.2282 Validation Accuracy: 0.6244\n",
      "Epoch 19, CIFAR-10 Batch 4:  Loss:          0.1104 Validation Accuracy: 0.6614\n",
      "Epoch 19, CIFAR-10 Batch 5:  Loss:          0.1048 Validation Accuracy: 0.6488\n",
      "Epoch 20, CIFAR-10 Batch 1:  Loss:          0.1423 Validation Accuracy: 0.6484\n",
      "Epoch 20, CIFAR-10 Batch 2:  Loss:          0.0934 Validation Accuracy: 0.6488\n",
      "Epoch 20, CIFAR-10 Batch 3:  Loss:          0.1544 Validation Accuracy: 0.6446\n",
      "Epoch 20, CIFAR-10 Batch 4:  Loss:          0.1363 Validation Accuracy: 0.6438\n",
      "Epoch 20, CIFAR-10 Batch 5:  Loss:          0.0719 Validation Accuracy: 0.6530\n"
     ]
    }
   ],
   "source": [
    "save_model_path = './image_classification'\n",
    "\n",
    "print('Training...')\n",
    "with tf.Session() as sess:\n",
    "    # Initializing the variables\n",
    "    sess.run(tf.global_variables_initializer())\n",
    "    \n",
    "    # Training cycle\n",
    "    for epoch in range(epochs):\n",
    "        # Loop over all batches\n",
    "        n_batches = 5\n",
    "        for batch_i in range(1, n_batches + 1):\n",
    "            for batch_features, batch_labels in helper.load_preprocess_training_batch(batch_i, batch_size):\n",
    "                train_neural_network(sess, optimizer, keep_probability, batch_features, batch_labels)\n",
    "            print('Epoch {:>2}, CIFAR-10 Batch {}:  '.format(epoch + 1, batch_i), end='')\n",
    "            print_stats(sess, batch_features, batch_labels, cost, accuracy)\n",
    "            \n",
    "    # Save Model\n",
    "    saver = tf.train.Saver()\n",
    "    save_path = saver.save(sess, save_model_path)"
   ]
  },
  {
   "cell_type": "markdown",
   "metadata": {},
   "source": [
    "# Checkpoint\n",
    "The model has been saved to disk.\n",
    "## Test Model\n",
    "Test your model against the test dataset.  This will be your final accuracy. You should have an accuracy greater than 50%. If you don't, keep tweaking the model architecture and parameters."
   ]
  },
  {
   "cell_type": "code",
   "execution_count": 25,
   "metadata": {},
   "outputs": [
    {
     "name": "stdout",
     "output_type": "stream",
     "text": [
      "INFO:tensorflow:Restoring parameters from ./image_classification\n",
      "Testing Accuracy: 0.659315664556962\n",
      "\n"
     ]
    },
    {
     "data": {
      "image/png": "[encoded data removed]",
      "text/plain": [
       "<matplotlib.figure.Figure at 0x11fc32278>"
      ]
     },
     "metadata": {
      "image/png": {
       "height": 319,
       "width": 355
      }
     },
     "output_type": "display_data"
    }
   ],
   "source": [
    "%matplotlib inline\n",
    "%config InlineBackend.figure_format = 'retina'\n",
    "\n",
    "import tensorflow as tf\n",
    "import pickle\n",
    "import helper\n",
    "import random\n",
    "\n",
    "# Set batch size if not already set\n",
    "try:\n",
    "    if batch_size:\n",
    "        pass\n",
    "except NameError:\n",
    "    batch_size = 64\n",
    "\n",
    "save_model_path = './image_classification'\n",
    "n_samples = 4\n",
    "top_n_predictions = 3\n",
    "\n",
    "def test_model():\n",
    "    \"\"\"\n",
    "    Testing the saved model against the test dataset\n",
    "    \"\"\"\n",
    "\n",
    "    test_features, test_labels = pickle.load(open('preprocess_test.p', mode='rb'))\n",
    "    loaded_graph = tf.Graph()\n",
    "\n",
    "    with tf.Session(graph=loaded_graph) as sess:\n",
    "        # Load model\n",
    "        loader = tf.train.import_meta_graph(save_model_path + '.meta')\n",
    "        loader.restore(sess, save_model_path)\n",
    "\n",
    "        # Get Tensors from loaded model\n",
    "        loaded_x = loaded_graph.get_tensor_by_name('x:0')\n",
    "        loaded_y = loaded_graph.get_tensor_by_name('y:0')\n",
    "        loaded_keep_prob = loaded_graph.get_tensor_by_name('keep_prob:0')\n",
    "        loaded_logits = loaded_graph.get_tensor_by_name('logits:0')\n",
    "        loaded_acc = loaded_graph.get_tensor_by_name('accuracy:0')\n",
    "        \n",
    "        # Get accuracy in batches for memory limitations\n",
    "        test_batch_acc_total = 0\n",
    "        test_batch_count = 0\n",
    "        \n",
    "        for test_feature_batch, test_label_batch in helper.batch_features_labels(test_features, test_labels, batch_size):\n",
    "            test_batch_acc_total += sess.run(\n",
    "                loaded_acc,\n",
    "                feed_dict={loaded_x: test_feature_batch, loaded_y: test_label_batch, loaded_keep_prob: 1.0})\n",
    "            test_batch_count += 1\n",
    "\n",
    "        print('Testing Accuracy: {}\\n'.format(test_batch_acc_total/test_batch_count))\n",
    "\n",
    "        # Print Random Samples\n",
    "        random_test_features, random_test_labels = tuple(zip(*random.sample(list(zip(test_features, test_labels)), n_samples)))\n",
    "        random_test_predictions = sess.run(\n",
    "            tf.nn.top_k(tf.nn.softmax(loaded_logits), top_n_predictions),\n",
    "            feed_dict={loaded_x: random_test_features, loaded_y: random_test_labels, loaded_keep_prob: 1.0})\n",
    "        helper.display_image_predictions(random_test_features, random_test_labels, random_test_predictions)\n",
    "\n",
    "\n",
    "test_model()"
   ]
  },
  {
   "cell_type": "markdown",
   "metadata": {},
   "source": [
    "## Why 50-80% Accuracy?\n",
    "Though 50% accuracy isn't bad for a simple CNN, it's not the best and can be improved. However, this is out of the scope of this project. "
   ]
  }
 ],
 "metadata": {
  "kernelspec": {
   "display_name": "Python 3",
   "language": "python",
   "name": "python3"
  },
  "language_info": {
   "codemirror_mode": {
    "name": "ipython",
    "version": 3
   },
   "file_extension": ".py",
   "mimetype": "text/x-python",
   "name": "python",
   "nbconvert_exporter": "python",
   "pygments_lexer": "ipython3",
   "version": "3.6.1"
  }
 },
 "nbformat": 4,
 "nbformat_minor": 1
}
